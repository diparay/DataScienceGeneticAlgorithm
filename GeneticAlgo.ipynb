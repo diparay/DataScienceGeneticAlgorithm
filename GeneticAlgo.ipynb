{
 "cells": [
  {
   "cell_type": "code",
   "execution_count": 1,
   "metadata": {},
   "outputs": [],
   "source": [
    "import random"
   ]
  },
  {
   "cell_type": "code",
   "execution_count": 2,
   "metadata": {},
   "outputs": [],
   "source": [
    "\n",
    "def create_population(number_of_queens, initial_population_size):\n",
    "\n",
    "    population = []\n",
    "    for chromosome in range(initial_population_size):\n",
    "        population.append(create_chromosome(number_of_queens))\n",
    "    return population\n",
    "\n",
    "#Unit Test\n",
    "#create_population(8,10)\n"
   ]
  },
  {
   "cell_type": "code",
   "execution_count": 3,
   "metadata": {},
   "outputs": [],
   "source": [
    "def create_chromosome(gene_size):\n",
    "   \n",
    "    chromosome = []\n",
    "    for gene in range(gene_size):\n",
    "        chromosome.append(random.randint(0, gene_size - 1))\n",
    "    return chromosome\n",
    "\n",
    "#Unit Test\n",
    "#create_chromosome(8)"
   ]
  },
  {
   "cell_type": "code",
   "execution_count": 4,
   "metadata": {},
   "outputs": [],
   "source": [
    "def fitness_calculation(chromosome, maxFitness):\n",
    "\n",
    "    horizontal_collisions = sum([chromosome.count(i) - 1 for i in chromosome])/2\n",
    "    diagonal_collisions = 0\n",
    "    for record in range(1,len(chromosome)+1):\n",
    "        column1 = record-1\n",
    "        row1 = chromosome[column1]\n",
    "        for i in range (column1+1, len(chromosome)):\n",
    "            column2 = i\n",
    "            row2 = chromosome[i]\n",
    "            deltaRow = abs(row1 - row2)\n",
    "            deltaCol = abs(column1 - column2)\n",
    "            if (deltaRow == deltaCol):\n",
    "                #print(\"######## Collision detected ##############\")\n",
    "                diagonal_collisions = diagonal_collisions + 1\n",
    "    #print(\"Horizontal Collisions are {} and Diagonal are {} \".format(horizontal_collisions, diagonal_collisions))\n",
    "    fitness_score = maxFitness - (horizontal_collisions + diagonal_collisions)\n",
    "    #print(\"The fitness score is {}\".format(fitness_score))\n",
    "    return fitness_score\n",
    "\n",
    "#Unit Test\n",
    "#fitness_calculation([2, 6, 1, 7, 4, 0, 3, 5], 28)"
   ]
  },
  {
   "cell_type": "code",
   "execution_count": 5,
   "metadata": {},
   "outputs": [],
   "source": [
    "def strength_of_chromosome(chromosome, maxFitness):\n",
    "\n",
    "    return fitness_calculation(chromosome, maxFitness) / maxFitness\n",
    "\n",
    "#Unit Test\n",
    "#strength_of_chromosome([1, 1, 1, 1, 1, 1, 1, 1], 28)\n",
    "#strength_of_chromosome([2, 6, 1, 7, 4, 0, 3, 5], 28)"
   ]
  },
  {
   "cell_type": "code",
   "execution_count": 6,
   "metadata": {},
   "outputs": [],
   "source": [
    "def strongest_parent(population, probabilities, parent):\n",
    " \n",
    "    population_with_probability = zip(population, probabilities)\n",
    "    sorted_population_with_probability = sorted(population_with_probability, key = lambda i: i[1]) \n",
    "    if parent.upper() == 'X':\n",
    "        selected_parent = sorted_population_with_probability[-1]\n",
    "    elif parent.upper() == 'Y':\n",
    "        selected_parent = sorted_population_with_probability[-2]\n",
    "    else :\n",
    "        selected_parent = (0,0)\n",
    "        print(\"Incorrect parent provided. Expected values are X or Y\")\n",
    "    return selected_parent[0]\n",
    "    \n",
    "#Unit Test\n",
    "#strongest_parent([[1, 1, 1, 1, 1, 1, 1, 1], [1, 6, 3, 7, 4, 0, 3, 5], [2, 6, 1, 7, 4, 0, 3, 5]],[0.2, 0.5, .9], 'y')"
   ]
  },
  {
   "cell_type": "code",
   "execution_count": 7,
   "metadata": {},
   "outputs": [],
   "source": [
    "def breed(parentX, parentY):\n",
    "   \n",
    "    random_point = random.randint(0, len(parentX) - 1)\n",
    "    return parentX[0:random_point] + parentY[random_point:len(parentY)]\n",
    "\n",
    "#Unit Test\n",
    "#breed([1, 1, 1, 1, 1, 1, 1, 1],[2, 6, 1, 7, 4, 0, 3, 5])"
   ]
  },
  {
   "cell_type": "code",
   "execution_count": 8,
   "metadata": {},
   "outputs": [],
   "source": [
    "def mutation(child_chromosome, num_of_genes_to_change):  \n",
    "    \n",
    "    if (num_of_genes_to_change > len(child_chromosome)):\n",
    "        num_of_genes_to_change = len(child_chromosome)\n",
    "        print(\"Number of gene changes requested are greater than genes in original chromosome\")\n",
    "        print(\"The number of gene changes revised to {} changes\".format(num_of_genes_to_change))\n",
    "    \n",
    "    for i in range(num_of_genes_to_change):\n",
    "        generate_random_gene = random.randint(0,len(child_chromosome)-1)\n",
    "        child_chromosome[random.randint(0,len(child_chromosome)-1)] = generate_random_gene\n",
    "    return child_chromosome\n",
    "\n",
    "#Unit Test\n",
    "#mutation([2, 6, 1, 7, 4, 0, 3, 5],12)"
   ]
  },
  {
   "cell_type": "code",
   "execution_count": 9,
   "metadata": {},
   "outputs": [],
   "source": [
    "def execute_genetic_algorithm(population, mutation_chance, maxFitness):\n",
    "    \n",
    "    new_population = []\n",
    "    likelihood_of_chromosome = [strength_of_chromosome(chromosome, maxFitness) for chromosome in population]\n",
    "    for i in range(len(population)):\n",
    "        parentX = strongest_parent(population, likelihood_of_chromosome, 'X')\n",
    "        parentY = strongest_parent(population, likelihood_of_chromosome, 'Y')\n",
    "        child_chromosome = breed(parentX, parentY)\n",
    "        if random.random() < mutation_chance:\n",
    "            child_chromosome = mutation(child_chromosome,2) # 2 of the genes to be updated\n",
    "        new_population.append(child_chromosome)\n",
    "        if (fitness_calculation(child_chromosome, maxFitness) == maxFitness):\n",
    "            break\n",
    "    return new_population\n",
    "\n",
    "#Unit Test\n",
    "#execute_genetic_algorithm([[2, 0, 1, 8, 4, 4, 3, 3],[2, 6, 1, 7, 4, 0, 3, 5]], 0.03, 28)"
   ]
  },
  {
   "cell_type": "code",
   "execution_count": 12,
   "metadata": {},
   "outputs": [],
   "source": [
    "# Request Input from the User\n",
    "number_of_queens = 8\n",
    "mutation_percentage = 5\n",
    "initial_population_size = 100000\n",
    "maximum_generations_to_execute = 10000\n",
    "mutation_chance = mutation_percentage / 100"
   ]
  },
  {
   "cell_type": "code",
   "execution_count": 13,
   "metadata": {},
   "outputs": [
    {
     "name": "stdout",
     "output_type": "stream",
     "text": [
      "The maxFitness desired is: 28.0\n",
      "Running iteration for Generation number 0\n",
      "The Maximum Fitness in this Generation is 28.0\n",
      "Solved in Generation 0!\n",
      "Solution =======> [2, 7, 3, 6, 0, 5, 1, 4]\n"
     ]
    }
   ],
   "source": [
    "if __name__ == \"__main__\":\n",
    "   \n",
    "    # Calculate the target score\n",
    "    maxFitness = ((number_of_queens) * (number_of_queens - 1))/2 \n",
    "    print(\"The maxFitness desired is: {}\".format(maxFitness))\n",
    "    \n",
    "    # Create a random population of chromosomes with genes based on the inputs\n",
    "    population = create_population(number_of_queens, initial_population_size)\n",
    "    generation_counter = 0\n",
    "    \n",
    "    for iteration in range(maximum_generations_to_execute):\n",
    "        print(\"Running iteration for Generation number {}\".format(generation_counter))\n",
    "        population = execute_genetic_algorithm(population, mutation_chance, maxFitness)      \n",
    "        maxFitnessInPopulation = max([fitness_calculation(chromosome, maxFitness) for chromosome in population])\n",
    "        print(\"The Maximum Fitness in this Generation is {}\".format(maxFitnessInPopulation))\n",
    "        if (maxFitnessInPopulation != maxFitness):\n",
    "            generation_counter += 1\n",
    "        else:\n",
    "            break\n",
    "        \n",
    "    print(\"Solved in Generation {}!\".format(generation_counter))\n",
    "    for chromosome in population:\n",
    "        if (fitness_calculation(chromosome, maxFitness) == maxFitness):\n",
    "            print(\"Solution =======> {}\".format(chromosome))"
   ]
  },
  {
   "cell_type": "code",
   "execution_count": null,
   "metadata": {},
   "outputs": [],
   "source": []
  }
 ],
 "metadata": {
  "kernelspec": {
   "display_name": "Python 3",
   "language": "python",
   "name": "python3"
  },
  "language_info": {
   "codemirror_mode": {
    "name": "ipython",
    "version": 3
   },
   "file_extension": ".py",
   "mimetype": "text/x-python",
   "name": "python",
   "nbconvert_exporter": "python",
   "pygments_lexer": "ipython3",
   "version": "3.7.6"
  }
 },
 "nbformat": 4,
 "nbformat_minor": 4
}
